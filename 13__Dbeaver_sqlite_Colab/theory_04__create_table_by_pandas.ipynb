{
 "cells": [
  {
   "cell_type": "markdown",
   "id": "420a4ddb-e628-412a-839a-c79541055ce8",
   "metadata": {},
   "source": [
    "## Создание таблицы с помощью DataFrame"
   ]
  },
  {
   "cell_type": "code",
   "execution_count": null,
   "id": "39d9bbae-d13e-4d8a-b801-6300cc617f5c",
   "metadata": {
    "scrolled": true
   },
   "outputs": [],
   "source": [
    "import pandas as pd\n",
    "import sqlite3\n",
    "# Создание DataFrame с данными\n",
    "data = {\n",
    "    'сolumn1': ['value1', 'value2', 'value3'],\n",
    "    'сolumn2': ['value1', 'value2', 'value3'],\n",
    "    'сolumn3': ['value1', 'value2', 'value3'],\n",
    "}\n",
    "df = pd.DataFrame(data)\n",
    "print(df)\n"
   ]
  },
  {
   "cell_type": "markdown",
   "id": "3acd8644-d0e3-4456-844d-02c178d8c754",
   "metadata": {},
   "source": [
    "## Загрузка DataFrame в SQLite"
   ]
  },
  {
   "cell_type": "code",
   "execution_count": null,
   "id": "75eccd44-80a4-4b28-99f5-523c1c4e49dd",
   "metadata": {},
   "outputs": [],
   "source": [
    "# Подключаемся к базе данных (файл базы данных создается при необходимости)\n",
    "conn = sqlite3.connect('students.db')\n",
    "\n",
    "# Запись данных DataFrame в базу данных SQLite\n",
    "df.to_sql('new_table', conn, if_exists='replace', index=False)\n"
   ]
  },
  {
   "cell_type": "markdown",
   "id": "b649e86f-6558-417e-911a-8d22d9583019",
   "metadata": {},
   "source": [
    "### Проверяем содеожимое таблицы"
   ]
  },
  {
   "cell_type": "code",
   "execution_count": 14,
   "id": "4850d590-8b86-454a-85a5-a4a782b95db0",
   "metadata": {},
   "outputs": [],
   "source": [
    "# Создание курсора для выполнения SQL-запросов\n",
    "cursor = conn.cursor()"
   ]
  },
  {
   "cell_type": "code",
   "execution_count": null,
   "id": "91e547d0-fa1d-4c7d-9ba9-db55250908b2",
   "metadata": {},
   "outputs": [],
   "source": [
    "# Выполняем SQL-запрос для получения данных \n",
    "df_from_db = pd.read_sql_query('SELECT * FROM new_table', conn) \n",
    "\n",
    "# Печатаем полученные данные \n",
    "print(df_from_db)"
   ]
  },
  {
   "cell_type": "code",
   "execution_count": null,
   "id": "2306e081-722c-4c42-9f98-b8d26e2bbd1d",
   "metadata": {},
   "outputs": [],
   "source": []
  }
 ],
 "metadata": {
  "kernelspec": {
   "display_name": "Python 3 (ipykernel)",
   "language": "python",
   "name": "python3"
  },
  "language_info": {
   "codemirror_mode": {
    "name": "ipython",
    "version": 3
   },
   "file_extension": ".py",
   "mimetype": "text/x-python",
   "name": "python",
   "nbconvert_exporter": "python",
   "pygments_lexer": "ipython3",
   "version": "3.8.10"
  }
 },
 "nbformat": 4,
 "nbformat_minor": 5
}
