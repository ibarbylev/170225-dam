{
 "cells": [
  {
   "cell_type": "markdown",
   "id": "7d0cb582-2f0f-44c4-83fd-106f12ff9ee0",
   "metadata": {},
   "source": [
    "## Пример подключения к SQLite\n"
   ]
  },
  {
   "cell_type": "code",
   "execution_count": null,
   "id": "9717b18c-d07d-45b3-83e9-3eb9012e2125",
   "metadata": {},
   "outputs": [],
   "source": [
    "import sqlite3\n",
    "\n",
    "# Подключение к базе данных (файл базы данных будет создан, если не существует)\n",
    "conn = sqlite3.connect('my_database.db')\n",
    "\n",
    "# Создание курсора для выполнения SQL-запросов\n",
    "cursor = conn.cursor()"
   ]
  },
  {
   "cell_type": "markdown",
   "id": "a17b9084-4b91-4b0a-922e-81a278e466c9",
   "metadata": {},
   "source": [
    "### Создание таблиц"
   ]
  },
  {
   "cell_type": "code",
   "execution_count": null,
   "id": "571a24ba-b629-481c-b3ca-64894c4f4638",
   "metadata": {},
   "outputs": [],
   "source": [
    "cursor.execute('''\n",
    "CREATE TABLE users (\n",
    "    id INTEGER PRIMARY KEY,\n",
    "    name TEXT NOT NULL,\n",
    "    age INTEGER,\n",
    "    email TEXT\n",
    ")\n",
    "''')\n",
    "conn.commit()  # Подтверждаем изменения в базе данных\n"
   ]
  },
  {
   "cell_type": "markdown",
   "id": "c76cf518-1b19-44d5-a82a-533f98cbec7c",
   "metadata": {},
   "source": [
    "### Добавление данных в БД"
   ]
  },
  {
   "cell_type": "code",
   "execution_count": null,
   "id": "259f7b45-2b30-4a1d-857b-1c73e109638b",
   "metadata": {},
   "outputs": [],
   "source": [
    "cursor.execute(\"INSERT INTO users (name, age, email) VALUES (?, ?, ?)\", (\"John Doe\", 25, \"johndoe@example.com\")) \n",
    "conn.commit()"
   ]
  },
  {
   "cell_type": "markdown",
   "id": "74543050-68d6-4f6e-b526-8155ba1f506b",
   "metadata": {},
   "source": [
    "### Выводим содержимое таблицы \"users\""
   ]
  },
  {
   "cell_type": "code",
   "execution_count": null,
   "id": "985ab92e-b05f-4d4f-b56f-beba42913991",
   "metadata": {},
   "outputs": [],
   "source": [
    "cursor.execute(\"SELECT * FROM users;\")\n",
    "print(cursor.fetchall())"
   ]
  }
 ],
 "metadata": {
  "kernelspec": {
   "display_name": "Python 3 (ipykernel)",
   "language": "python",
   "name": "python3"
  },
  "language_info": {
   "codemirror_mode": {
    "name": "ipython",
    "version": 3
   },
   "file_extension": ".py",
   "mimetype": "text/x-python",
   "name": "python",
   "nbconvert_exporter": "python",
   "pygments_lexer": "ipython3",
   "version": "3.8.10"
  }
 },
 "nbformat": 4,
 "nbformat_minor": 5
}
