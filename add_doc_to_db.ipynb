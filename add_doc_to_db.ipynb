{
 "cells": [
  {
   "cell_type": "code",
   "execution_count": 11,
   "id": "initial_id",
   "metadata": {
    "ExecuteTime": {
     "end_time": "2025-06-17T20:48:19.657703Z",
     "start_time": "2025-06-17T20:48:19.650436Z"
    }
   },
   "outputs": [
    {
     "name": "stdout",
     "output_type": "stream",
     "text": [
      "{'_id': ObjectId('6881356d7cd4beaee0765ff2'), 'name': 'Документ №1', 'createdAt': datetime.datetime(2025, 7, 23, 19, 18, 5, 7000)}\n",
      "{'_id': ObjectId('688135787cd4beaee0765ff4'), 'name': 'Документ №2', 'createdAt': datetime.datetime(2025, 7, 23, 19, 18, 16, 310000)}\n",
      "{'_id': ObjectId('6881358f7cd4beaee0765ff6'), 'name': 'Документ №3', 'createdAt': datetime.datetime(2025, 7, 23, 19, 18, 39, 516000)}\n",
      "{'_id': ObjectId('688135a77cd4beaee0765ff8'), 'name': 'Документ №4', 'createdAt': datetime.datetime(2025, 7, 23, 19, 19, 3, 477000)}\n",
      "{'_id': ObjectId('688135b47cd4beaee0765ffa'), 'name': 'Документ №5', 'createdAt': datetime.datetime(2025, 7, 23, 19, 19, 16, 584000)}\n"
     ]
    }
   ],
   "source": [
    "# Импорт пакетов, подключение к БД, создание клиента\n",
    "\n",
    "from datetime import datetime, UTC\n",
    "from pymongo import MongoClient   # !pip install pymongo\n",
    "from local_settings import MONGODB_URL_WRIGHT\n",
    "\n",
    "client = MongoClient(MONGODB_URL_WRIGHT)\n",
    "\n",
    "# Подключаемся к коллекции ich_edit.final_project_17022025_BAR\n",
    "# (если нет - автоматически создаём)\n",
    "db = client.ich_edit\n",
    "collection = db.final_project_17022025_BAR\n",
    "\n",
    "# Получаем число документов текущей коллекции\n",
    "count = collection.count_documents({})  \n",
    "\n",
    "# Создаём документ с номеом на 1 больше и с датой-временем создания\n",
    "doc = {\n",
    "    \"name\": f\"Документ №{count + 1}\",\n",
    "    \"createdAt\": datetime.now(UTC)\n",
    "}\n",
    "\n",
    "# Добавляем этот документ к текущей коллекции\n",
    "collection.insert_one(doc)\n",
    "\n",
    "# Выводим на печать всю коллекцию\n",
    "data = collection.find({})\n",
    "for d in data:\n",
    "    print(d)\n"
   ]
  },
  {
   "cell_type": "code",
   "execution_count": null,
   "id": "11a03f59-99ff-4601-9401-5128ecdcc5c9",
   "metadata": {},
   "outputs": [],
   "source": []
  }
 ],
 "metadata": {
  "kernelspec": {
   "display_name": "Python 3 (ipykernel)",
   "language": "python",
   "name": "python3"
  },
  "language_info": {
   "codemirror_mode": {
    "name": "ipython",
    "version": 3
   },
   "file_extension": ".py",
   "mimetype": "text/x-python",
   "name": "python",
   "nbconvert_exporter": "python",
   "pygments_lexer": "ipython3",
   "version": "3.12.11"
  }
 },
 "nbformat": 4,
 "nbformat_minor": 5
}
