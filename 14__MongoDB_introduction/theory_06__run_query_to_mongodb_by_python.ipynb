{
 "cells": [
  {
   "metadata": {},
   "cell_type": "code",
   "outputs": [],
   "execution_count": null,
   "source": [
    "# Импорт пакетов, подключение к БД, создание клиента\n",
    "\n",
    "from pprint import pprint\n",
    "from pymongo import MongoClient   # !pip install pymongo\n",
    "from local_settings import MONGODB_URL_READ\n",
    "\n",
    "\n",
    "client = MongoClient(MONGODB_URL_READ)\n",
    "\n",
    "# Создание списка заданий и списка решений\n",
    "task_statement, data = [], []\n"
   ],
   "id": "initial_id"
  },
  {
   "metadata": {},
   "cell_type": "code",
   "source": [
    "# Задача 1\n",
    "task_statement.append(\n",
    "    'Условие задачи 1'\n",
    ")\n",
    "\n",
    "# подставляем решение из mongodb\n",
    "result = ''\n",
    "data.append(result)"
   ],
   "id": "8bffba38f7012db2",
   "outputs": [],
   "execution_count": null
  },
  {
   "metadata": {},
   "cell_type": "code",
   "outputs": [],
   "execution_count": null,
   "source": [
    "# Задача 2\n",
    "task_statement.append(\n",
    "    'Условие задачи 2'\n",
    ")\n",
    "# подставляем решение из mongodb\n",
    "\n",
    "result = ''\n",
    "data.append(result)"
   ],
   "id": "ba8045e38eeadb5e"
  },
  {
   "metadata": {},
   "cell_type": "code",
   "outputs": [],
   "execution_count": null,
   "source": [
    "# Цикл по задачам\n",
    "for task_num, result in enumerate(data):\n",
    "    print(50 * '=')\n",
    "    print(task_statement[task_num])\n",
    "    print()\n",
    "\n",
    "    # Цикл по выводу документов решения\n",
    "    for idx, doc in enumerate(result):\n",
    "        # print(idx, 50 * '-')\n",
    "        pprint(doc)\n",
    "\n",
    "# Закрытие клиента pymongo\n",
    "client.close()"
   ],
   "id": "c469dbdcb844d940"
  },
  {
   "metadata": {},
   "cell_type": "code",
   "outputs": [],
   "source": "",
   "id": "569d4ad8951e6316",
   "execution_count": null
  }
 ],
 "metadata": {
  "kernelspec": {
   "display_name": "Python 3",
   "language": "python",
   "name": "python3"
  },
  "language_info": {
   "codemirror_mode": {
    "name": "ipython",
    "version": 2
   },
   "file_extension": ".py",
   "mimetype": "text/x-python",
   "name": "python",
   "nbconvert_exporter": "python",
   "pygments_lexer": "ipython2",
   "version": "2.7.6"
  }
 },
 "nbformat": 4,
 "nbformat_minor": 5
}
